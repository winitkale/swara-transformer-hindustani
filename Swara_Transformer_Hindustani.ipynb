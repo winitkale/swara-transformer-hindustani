{
  "cells": [
    {
      "cell_type": "markdown",
      "metadata": {
        "id": "view-in-github",
        "colab_type": "text"
      },
      "source": [
        "<a href=\"https://colab.research.google.com/github/winitkale/swara-transformer-hindustani/blob/main/Swara_Transformer_Hindustani.ipynb\" target=\"_parent\"><img src=\"https://colab.research.google.com/assets/colab-badge.svg\" alt=\"Open In Colab\"/></a>"
      ]
    },
    {
      "cell_type": "markdown",
      "id": "6ed2e66c",
      "metadata": {
        "id": "6ed2e66c"
      },
      "source": [
        "# 🎶 Swara Transformer with Raga Selection & Live Monitoring\n",
        "This notebook supports:\n",
        "- Raga-based swara generation\n",
        "- Alaap / Pakad styles\n",
        "- Live microphone pitch capture"
      ]
    },
    {
      "cell_type": "code",
      "execution_count": 11,
      "id": "81530986",
      "metadata": {
        "id": "81530986"
      },
      "outputs": [],
      "source": [
        "!pip install -q torchaudio transformers datasets matplotlib librosa ipywidgets sounddevice"
      ]
    },
    {
      "cell_type": "code",
      "execution_count": 13,
      "id": "63e0d3c3",
      "metadata": {
        "colab": {
          "base_uri": "https://localhost:8080/",
          "height": 112,
          "referenced_widgets": [
            "b41faa0b0e484d50bd6bd796b94b8d39",
            "9a0f4f16b6704173a26e36daf21a829f",
            "925d82151eeb41c28c114f7a7df30db3",
            "396df932e81f41099331ad580f3c441a",
            "ff7b87234ddd4c05b3b0c1c6c097f6ea",
            "aad5d99cb19440029eb095d419912469",
            "e66ecfb188d448e38e9d94400ac7f23f",
            "46ae35ac8e9444f9b9bd23dd0a72fe87",
            "ebc0e92405ed49d7a2209e58e52d9bb6",
            "330f8e25f6874d958153010ee7eed1b6",
            "a126c40955f4475992018873e7ec2d27"
          ]
        },
        "id": "63e0d3c3",
        "outputId": "1683f784-1a5f-42f4-9292-2a77ed13f221"
      },
      "outputs": [
        {
          "output_type": "display_data",
          "data": {
            "text/plain": [
              "Dropdown(description='🎼 Raga:', options=('Yaman', 'Bhairav', 'Bhairavi', 'Kafi', 'Kalyan', 'Marwa', 'Poorvi', …"
            ],
            "application/vnd.jupyter.widget-view+json": {
              "version_major": 2,
              "version_minor": 0,
              "model_id": "b41faa0b0e484d50bd6bd796b94b8d39"
            }
          },
          "metadata": {}
        },
        {
          "output_type": "display_data",
          "data": {
            "text/plain": [
              "ToggleButtons(description='🎵 Style:', options=('Alaap', 'Pakad'), style=ToggleButtonsStyle(description_width='…"
            ],
            "application/vnd.jupyter.widget-view+json": {
              "version_major": 2,
              "version_minor": 0,
              "model_id": "396df932e81f41099331ad580f3c441a"
            }
          },
          "metadata": {}
        },
        {
          "output_type": "display_data",
          "data": {
            "text/plain": [
              "Button(description='Generate Swaras', style=ButtonStyle())"
            ],
            "application/vnd.jupyter.widget-view+json": {
              "version_major": 2,
              "version_minor": 0,
              "model_id": "e66ecfb188d448e38e9d94400ac7f23f"
            }
          },
          "metadata": {}
        },
        {
          "output_type": "display_data",
          "data": {
            "text/plain": [
              "Output()"
            ],
            "application/vnd.jupyter.widget-view+json": {
              "version_major": 2,
              "version_minor": 0,
              "model_id": "330f8e25f6874d958153010ee7eed1b6"
            }
          },
          "metadata": {}
        }
      ],
      "source": [
        "import ipywidgets as widgets\n",
        "from IPython.display import display, clear_output\n",
        "import random\n",
        "\n",
        "raga_dropdown = widgets.Dropdown(\n",
        "    options=['Yaman', 'Bhairav', 'Bhairavi', 'Kafi', 'Kalyan', 'Marwa', 'Poorvi', 'Asavari', 'Bilawal', 'Todi'],\n",
        "    description='🎼 Raga:',\n",
        "    style={'description_width': 'initial'}\n",
        ")\n",
        "\n",
        "style_dropdown = widgets.ToggleButtons(\n",
        "    options=['Alaap', 'Pakad'],\n",
        "    description='🎵 Style:',\n",
        "    style={'description_width': 'initial'}\n",
        ")\n",
        "\n",
        "output_box = widgets.Output()\n",
        "\n",
        "def generate_swaras(raga, style):\n",
        "    alaap_patterns = ['S R G M', 'R G M P', 'M P D N', \"N S' R' G'\"]\n",
        "    pakad_dict = {\n",
        "        'Yaman': \"N R G M D N S'\",\n",
        "        'Bhairav': \"S r G M P d N S'\",\n",
        "        'Bhairavi': \"S R g M P d n S'\",\n",
        "        'Kafi': \"S R g M P D n S'\",\n",
        "        'Kalyan': \"S R G M# P D N S'\",\n",
        "        'Marwa': \"S r G M D N S'\",\n",
        "        'Poorvi': \"S r G M# P d N S'\",\n",
        "        'Asavari': \"S R g M P d n S'\",\n",
        "        'Bilawal': \"S R G M P D N S'\",\n",
        "        'Todi': \"S r g M# D n S'\"\n",
        "    }\n",
        "    if style == 'Alaap':\n",
        "        return '  |  '.join(random.choices(alaap_patterns, k=4))\n",
        "    else:\n",
        "        return pakad_dict.get(raga, \"S R G M P D N S'\")\n",
        "\n",
        "def on_generate_clicked(b):\n",
        "    with output_box:\n",
        "        clear_output()\n",
        "        raga = raga_dropdown.value\n",
        "        style = style_dropdown.value\n",
        "        print(f'🎼 Raga: {raga} | 🎵 Style: {style}')\n",
        "        print('Generated Swaras:')\n",
        "        print(generate_swaras(raga, style))\n",
        "\n",
        "generate_button = widgets.Button(description='Generate Swaras')\n",
        "generate_button.on_click(on_generate_clicked)\n",
        "\n",
        "display(raga_dropdown, style_dropdown, generate_button, output_box)"
      ]
    },
    {
      "cell_type": "markdown",
      "id": "87ba96a4",
      "metadata": {
        "id": "87ba96a4"
      },
      "source": [
        "## 🎙️ Live Mic Pitch Monitoring (Experimental)"
      ]
    },
    {
      "cell_type": "code",
      "execution_count": null,
      "id": "25fb4163",
      "metadata": {
        "id": "25fb4163"
      },
      "outputs": [],
      "source": [
        "import sounddevice as sd\n",
        "import numpy as np\n",
        "import librosa\n",
        "import matplotlib.pyplot as plt\n",
        "\n",
        "DURATION = 5  # seconds\n",
        "SAMPLE_RATE = 22050\n",
        "\n",
        "def record_audio():\n",
        "    print(\"🎙️ Recording... Sing now\")\n",
        "    audio = sd.rec(int(DURATION * SAMPLE_RATE), samplerate=SAMPLE_RATE, channels=1)\n",
        "    sd.wait()\n",
        "    return audio.flatten()\n",
        "\n",
        "def plot_pitch(audio):\n",
        "    pitches, magnitudes = librosa.piptrack(y=audio, sr=SAMPLE_RATE)\n",
        "    pitch = []\n",
        "    for i in range(pitches.shape[1]):\n",
        "        index = magnitudes[:, i].argmax()\n",
        "        pitch_val = pitches[index, i]\n",
        "        if pitch_val > 0:\n",
        "            pitch.append(pitch_val)\n",
        "    times = np.linspace(0, DURATION, len(pitch))\n",
        "    plt.figure(figsize=(10, 4))\n",
        "    plt.plot(times, pitch)\n",
        "    plt.title(\"🎙️ Detected Pitch Over Time\")\n",
        "    plt.xlabel(\"Time (s)\")\n",
        "    plt.ylabel(\"Frequency (Hz)\")\n",
        "    plt.grid(True)\n",
        "    plt.show()\n",
        "\n",
        "# To use:\n",
        "# audio = record_audio()\n",
        "# plot_pitch(audio)\n"
      ]
    },
    {
      "cell_type": "markdown",
      "id": "120fb2bb",
      "metadata": {
        "id": "120fb2bb"
      },
      "source": [
        "## ✅ Instructions:\n",
        "- Use the dropdown to select raga and style.\n",
        "- Click `Generate Swaras` to see patterns.\n",
        "- Run the last two code cells to record and visualize pitch."
      ]
    }
  ],
  "metadata": {
    "colab": {
      "provenance": [],
      "include_colab_link": true
    },
    "language_info": {
      "name": "python"
    },
    "kernelspec": {
      "name": "python3",
      "display_name": "Python 3"
    },
    "widgets": {
      "application/vnd.jupyter.widget-state+json": {
        "b41faa0b0e484d50bd6bd796b94b8d39": {
          "model_module": "@jupyter-widgets/controls",
          "model_name": "DropdownModel",
          "model_module_version": "1.5.0",
          "state": {
            "_dom_classes": [],
            "_model_module": "@jupyter-widgets/controls",
            "_model_module_version": "1.5.0",
            "_model_name": "DropdownModel",
            "_options_labels": [
              "Yaman",
              "Bhairav",
              "Bhairavi",
              "Kafi",
              "Kalyan",
              "Marwa",
              "Poorvi",
              "Asavari",
              "Bilawal",
              "Todi"
            ],
            "_view_count": null,
            "_view_module": "@jupyter-widgets/controls",
            "_view_module_version": "1.5.0",
            "_view_name": "DropdownView",
            "description": "🎼 Raga:",
            "description_tooltip": null,
            "disabled": false,
            "index": 0,
            "layout": "IPY_MODEL_9a0f4f16b6704173a26e36daf21a829f",
            "style": "IPY_MODEL_925d82151eeb41c28c114f7a7df30db3"
          }
        },
        "9a0f4f16b6704173a26e36daf21a829f": {
          "model_module": "@jupyter-widgets/base",
          "model_name": "LayoutModel",
          "model_module_version": "1.2.0",
          "state": {
            "_model_module": "@jupyter-widgets/base",
            "_model_module_version": "1.2.0",
            "_model_name": "LayoutModel",
            "_view_count": null,
            "_view_module": "@jupyter-widgets/base",
            "_view_module_version": "1.2.0",
            "_view_name": "LayoutView",
            "align_content": null,
            "align_items": null,
            "align_self": null,
            "border": null,
            "bottom": null,
            "display": null,
            "flex": null,
            "flex_flow": null,
            "grid_area": null,
            "grid_auto_columns": null,
            "grid_auto_flow": null,
            "grid_auto_rows": null,
            "grid_column": null,
            "grid_gap": null,
            "grid_row": null,
            "grid_template_areas": null,
            "grid_template_columns": null,
            "grid_template_rows": null,
            "height": null,
            "justify_content": null,
            "justify_items": null,
            "left": null,
            "margin": null,
            "max_height": null,
            "max_width": null,
            "min_height": null,
            "min_width": null,
            "object_fit": null,
            "object_position": null,
            "order": null,
            "overflow": null,
            "overflow_x": null,
            "overflow_y": null,
            "padding": null,
            "right": null,
            "top": null,
            "visibility": null,
            "width": null
          }
        },
        "925d82151eeb41c28c114f7a7df30db3": {
          "model_module": "@jupyter-widgets/controls",
          "model_name": "DescriptionStyleModel",
          "model_module_version": "1.5.0",
          "state": {
            "_model_module": "@jupyter-widgets/controls",
            "_model_module_version": "1.5.0",
            "_model_name": "DescriptionStyleModel",
            "_view_count": null,
            "_view_module": "@jupyter-widgets/base",
            "_view_module_version": "1.2.0",
            "_view_name": "StyleView",
            "description_width": "initial"
          }
        },
        "396df932e81f41099331ad580f3c441a": {
          "model_module": "@jupyter-widgets/controls",
          "model_name": "ToggleButtonsModel",
          "model_module_version": "1.5.0",
          "state": {
            "_dom_classes": [],
            "_model_module": "@jupyter-widgets/controls",
            "_model_module_version": "1.5.0",
            "_model_name": "ToggleButtonsModel",
            "_options_labels": [
              "Alaap",
              "Pakad"
            ],
            "_view_count": null,
            "_view_module": "@jupyter-widgets/controls",
            "_view_module_version": "1.5.0",
            "_view_name": "ToggleButtonsView",
            "button_style": "",
            "description": "🎵 Style:",
            "description_tooltip": null,
            "disabled": false,
            "icons": [],
            "index": 0,
            "layout": "IPY_MODEL_ff7b87234ddd4c05b3b0c1c6c097f6ea",
            "style": "IPY_MODEL_aad5d99cb19440029eb095d419912469",
            "tooltips": []
          }
        },
        "ff7b87234ddd4c05b3b0c1c6c097f6ea": {
          "model_module": "@jupyter-widgets/base",
          "model_name": "LayoutModel",
          "model_module_version": "1.2.0",
          "state": {
            "_model_module": "@jupyter-widgets/base",
            "_model_module_version": "1.2.0",
            "_model_name": "LayoutModel",
            "_view_count": null,
            "_view_module": "@jupyter-widgets/base",
            "_view_module_version": "1.2.0",
            "_view_name": "LayoutView",
            "align_content": null,
            "align_items": null,
            "align_self": null,
            "border": null,
            "bottom": null,
            "display": null,
            "flex": null,
            "flex_flow": null,
            "grid_area": null,
            "grid_auto_columns": null,
            "grid_auto_flow": null,
            "grid_auto_rows": null,
            "grid_column": null,
            "grid_gap": null,
            "grid_row": null,
            "grid_template_areas": null,
            "grid_template_columns": null,
            "grid_template_rows": null,
            "height": null,
            "justify_content": null,
            "justify_items": null,
            "left": null,
            "margin": null,
            "max_height": null,
            "max_width": null,
            "min_height": null,
            "min_width": null,
            "object_fit": null,
            "object_position": null,
            "order": null,
            "overflow": null,
            "overflow_x": null,
            "overflow_y": null,
            "padding": null,
            "right": null,
            "top": null,
            "visibility": null,
            "width": null
          }
        },
        "aad5d99cb19440029eb095d419912469": {
          "model_module": "@jupyter-widgets/controls",
          "model_name": "ToggleButtonsStyleModel",
          "model_module_version": "1.5.0",
          "state": {
            "_model_module": "@jupyter-widgets/controls",
            "_model_module_version": "1.5.0",
            "_model_name": "ToggleButtonsStyleModel",
            "_view_count": null,
            "_view_module": "@jupyter-widgets/base",
            "_view_module_version": "1.2.0",
            "_view_name": "StyleView",
            "button_width": "",
            "description_width": "initial",
            "font_weight": ""
          }
        },
        "e66ecfb188d448e38e9d94400ac7f23f": {
          "model_module": "@jupyter-widgets/controls",
          "model_name": "ButtonModel",
          "model_module_version": "1.5.0",
          "state": {
            "_dom_classes": [],
            "_model_module": "@jupyter-widgets/controls",
            "_model_module_version": "1.5.0",
            "_model_name": "ButtonModel",
            "_view_count": null,
            "_view_module": "@jupyter-widgets/controls",
            "_view_module_version": "1.5.0",
            "_view_name": "ButtonView",
            "button_style": "",
            "description": "Generate Swaras",
            "disabled": false,
            "icon": "",
            "layout": "IPY_MODEL_46ae35ac8e9444f9b9bd23dd0a72fe87",
            "style": "IPY_MODEL_ebc0e92405ed49d7a2209e58e52d9bb6",
            "tooltip": ""
          }
        },
        "46ae35ac8e9444f9b9bd23dd0a72fe87": {
          "model_module": "@jupyter-widgets/base",
          "model_name": "LayoutModel",
          "model_module_version": "1.2.0",
          "state": {
            "_model_module": "@jupyter-widgets/base",
            "_model_module_version": "1.2.0",
            "_model_name": "LayoutModel",
            "_view_count": null,
            "_view_module": "@jupyter-widgets/base",
            "_view_module_version": "1.2.0",
            "_view_name": "LayoutView",
            "align_content": null,
            "align_items": null,
            "align_self": null,
            "border": null,
            "bottom": null,
            "display": null,
            "flex": null,
            "flex_flow": null,
            "grid_area": null,
            "grid_auto_columns": null,
            "grid_auto_flow": null,
            "grid_auto_rows": null,
            "grid_column": null,
            "grid_gap": null,
            "grid_row": null,
            "grid_template_areas": null,
            "grid_template_columns": null,
            "grid_template_rows": null,
            "height": null,
            "justify_content": null,
            "justify_items": null,
            "left": null,
            "margin": null,
            "max_height": null,
            "max_width": null,
            "min_height": null,
            "min_width": null,
            "object_fit": null,
            "object_position": null,
            "order": null,
            "overflow": null,
            "overflow_x": null,
            "overflow_y": null,
            "padding": null,
            "right": null,
            "top": null,
            "visibility": null,
            "width": null
          }
        },
        "ebc0e92405ed49d7a2209e58e52d9bb6": {
          "model_module": "@jupyter-widgets/controls",
          "model_name": "ButtonStyleModel",
          "model_module_version": "1.5.0",
          "state": {
            "_model_module": "@jupyter-widgets/controls",
            "_model_module_version": "1.5.0",
            "_model_name": "ButtonStyleModel",
            "_view_count": null,
            "_view_module": "@jupyter-widgets/base",
            "_view_module_version": "1.2.0",
            "_view_name": "StyleView",
            "button_color": null,
            "font_weight": ""
          }
        },
        "330f8e25f6874d958153010ee7eed1b6": {
          "model_module": "@jupyter-widgets/output",
          "model_name": "OutputModel",
          "model_module_version": "1.0.0",
          "state": {
            "_dom_classes": [],
            "_model_module": "@jupyter-widgets/output",
            "_model_module_version": "1.0.0",
            "_model_name": "OutputModel",
            "_view_count": null,
            "_view_module": "@jupyter-widgets/output",
            "_view_module_version": "1.0.0",
            "_view_name": "OutputView",
            "layout": "IPY_MODEL_a126c40955f4475992018873e7ec2d27",
            "msg_id": "",
            "outputs": []
          }
        },
        "a126c40955f4475992018873e7ec2d27": {
          "model_module": "@jupyter-widgets/base",
          "model_name": "LayoutModel",
          "model_module_version": "1.2.0",
          "state": {
            "_model_module": "@jupyter-widgets/base",
            "_model_module_version": "1.2.0",
            "_model_name": "LayoutModel",
            "_view_count": null,
            "_view_module": "@jupyter-widgets/base",
            "_view_module_version": "1.2.0",
            "_view_name": "LayoutView",
            "align_content": null,
            "align_items": null,
            "align_self": null,
            "border": null,
            "bottom": null,
            "display": null,
            "flex": null,
            "flex_flow": null,
            "grid_area": null,
            "grid_auto_columns": null,
            "grid_auto_flow": null,
            "grid_auto_rows": null,
            "grid_column": null,
            "grid_gap": null,
            "grid_row": null,
            "grid_template_areas": null,
            "grid_template_columns": null,
            "grid_template_rows": null,
            "height": null,
            "justify_content": null,
            "justify_items": null,
            "left": null,
            "margin": null,
            "max_height": null,
            "max_width": null,
            "min_height": null,
            "min_width": null,
            "object_fit": null,
            "object_position": null,
            "order": null,
            "overflow": null,
            "overflow_x": null,
            "overflow_y": null,
            "padding": null,
            "right": null,
            "top": null,
            "visibility": null,
            "width": null
          }
        }
      }
    }
  },
  "nbformat": 4,
  "nbformat_minor": 5
}